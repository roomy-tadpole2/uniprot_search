{
 "cells": [
  {
   "cell_type": "code",
   "execution_count": 1,
   "metadata": {},
   "outputs": [],
   "source": [
    "from fetch_scripts import uniprot_search\n",
    "from fetch_scripts import parse_data\n",
    "import pandas as pd"
   ]
  },
  {
   "cell_type": "code",
   "execution_count": 2,
   "metadata": {},
   "outputs": [
    {
     "name": "stdout",
     "output_type": "stream",
     "text": [
      "total results number = 100\n"
     ]
    }
   ],
   "source": [
    "result = uniprot_search(\"histone H3\", taxonomy_id=3702)"
   ]
  },
  {
   "cell_type": "code",
   "execution_count": 3,
   "metadata": {},
   "outputs": [
    {
     "data": {
      "text/html": [
       "<div>\n",
       "<style scoped>\n",
       "    .dataframe tbody tr th:only-of-type {\n",
       "        vertical-align: middle;\n",
       "    }\n",
       "\n",
       "    .dataframe tbody tr th {\n",
       "        vertical-align: top;\n",
       "    }\n",
       "\n",
       "    .dataframe thead th {\n",
       "        text-align: right;\n",
       "    }\n",
       "</style>\n",
       "<table border=\"1\" class=\"dataframe\">\n",
       "  <thead>\n",
       "    <tr style=\"text-align: right;\">\n",
       "      <th></th>\n",
       "      <th>Annotation</th>\n",
       "      <th>Sequence</th>\n",
       "      <th>Organism</th>\n",
       "    </tr>\n",
       "    <tr>\n",
       "      <th>ID</th>\n",
       "      <th></th>\n",
       "      <th></th>\n",
       "      <th></th>\n",
       "    </tr>\n",
       "  </thead>\n",
       "  <tbody>\n",
       "    <tr>\n",
       "      <th>P59226</th>\n",
       "      <td>Histone H3.1</td>\n",
       "      <td>MARTKQTARKSTGGKAPRKQLATKAARKSAPATGGVKKPHRFRPGT...</td>\n",
       "      <td>Arabidopsis thaliana</td>\n",
       "    </tr>\n",
       "    <tr>\n",
       "      <th>Q9FXI7</th>\n",
       "      <td>Histone H3-like 2</td>\n",
       "      <td>MARTKQTARKSTGGKGPRKELATKAARKTRRPYRGGVKRAHRFRPG...</td>\n",
       "      <td>Arabidopsis thaliana</td>\n",
       "    </tr>\n",
       "    <tr>\n",
       "      <th>Q8RVQ9</th>\n",
       "      <td>Histone H3-like centromeric protein CENH3</td>\n",
       "      <td>MARTKHRVTRSQPRNQTDAAGASSSQAAGPTTTPTRRGGEGGDNTQ...</td>\n",
       "      <td>Arabidopsis thaliana</td>\n",
       "    </tr>\n",
       "    <tr>\n",
       "      <th>P59169</th>\n",
       "      <td>Histone H3.3</td>\n",
       "      <td>MARTKQTARKSTGGKAPRKQLATKAARKSAPTTGGVKKPHRYRPGT...</td>\n",
       "      <td>Arabidopsis thaliana</td>\n",
       "    </tr>\n",
       "    <tr>\n",
       "      <th>Q9LR02</th>\n",
       "      <td>Histone H3-like 3</td>\n",
       "      <td>MARTKQTARKSHGGKAPRTLLATKAARKSAPTTGGVKKPHRYRPGT...</td>\n",
       "      <td>Arabidopsis thaliana</td>\n",
       "    </tr>\n",
       "    <tr>\n",
       "      <th>Q9FKQ3</th>\n",
       "      <td>Histone H3-like 5</td>\n",
       "      <td>MARTKQTARISTGGKAPRKQLAPKAARQSAPATGGVKKPHRFRPGT...</td>\n",
       "      <td>Arabidopsis thaliana</td>\n",
       "    </tr>\n",
       "    <tr>\n",
       "      <th>Q9FX60</th>\n",
       "      <td>Histone H3-like 1</td>\n",
       "      <td>MARTKQSARKSHGGKAPTKQLATKAARKSAPTTGGVKKPHRFRPGT...</td>\n",
       "      <td>Arabidopsis thaliana</td>\n",
       "    </tr>\n",
       "    <tr>\n",
       "      <th>Q9C5X4</th>\n",
       "      <td>Histone H3-lysine(4) N-trimethyltransferase ATX1</td>\n",
       "      <td>MACFSNETQIEIDVHDLVEAPIRYDSIESIYSIPSSALCCVNAVGS...</td>\n",
       "      <td>Arabidopsis thaliana</td>\n",
       "    </tr>\n",
       "    <tr>\n",
       "      <th>Q9LXU8</th>\n",
       "      <td>Histone H3-like 4</td>\n",
       "      <td>MARSNQTARKATGGKAPHFAMRVWQHSTPPLKKPYRYKPGTVALRE...</td>\n",
       "      <td>Arabidopsis thaliana</td>\n",
       "    </tr>\n",
       "  </tbody>\n",
       "</table>\n",
       "</div>"
      ],
      "text/plain": [
       "                                              Annotation  \\\n",
       "ID                                                         \n",
       "P59226                                      Histone H3.1   \n",
       "Q9FXI7                                 Histone H3-like 2   \n",
       "Q8RVQ9         Histone H3-like centromeric protein CENH3   \n",
       "P59169                                      Histone H3.3   \n",
       "Q9LR02                                 Histone H3-like 3   \n",
       "Q9FKQ3                                 Histone H3-like 5   \n",
       "Q9FX60                                 Histone H3-like 1   \n",
       "Q9C5X4  Histone H3-lysine(4) N-trimethyltransferase ATX1   \n",
       "Q9LXU8                                 Histone H3-like 4   \n",
       "\n",
       "                                                 Sequence  \\\n",
       "ID                                                          \n",
       "P59226  MARTKQTARKSTGGKAPRKQLATKAARKSAPATGGVKKPHRFRPGT...   \n",
       "Q9FXI7  MARTKQTARKSTGGKGPRKELATKAARKTRRPYRGGVKRAHRFRPG...   \n",
       "Q8RVQ9  MARTKHRVTRSQPRNQTDAAGASSSQAAGPTTTPTRRGGEGGDNTQ...   \n",
       "P59169  MARTKQTARKSTGGKAPRKQLATKAARKSAPTTGGVKKPHRYRPGT...   \n",
       "Q9LR02  MARTKQTARKSHGGKAPRTLLATKAARKSAPTTGGVKKPHRYRPGT...   \n",
       "Q9FKQ3  MARTKQTARISTGGKAPRKQLAPKAARQSAPATGGVKKPHRFRPGT...   \n",
       "Q9FX60  MARTKQSARKSHGGKAPTKQLATKAARKSAPTTGGVKKPHRFRPGT...   \n",
       "Q9C5X4  MACFSNETQIEIDVHDLVEAPIRYDSIESIYSIPSSALCCVNAVGS...   \n",
       "Q9LXU8  MARSNQTARKATGGKAPHFAMRVWQHSTPPLKKPYRYKPGTVALRE...   \n",
       "\n",
       "                    Organism  \n",
       "ID                            \n",
       "P59226  Arabidopsis thaliana  \n",
       "Q9FXI7  Arabidopsis thaliana  \n",
       "Q8RVQ9  Arabidopsis thaliana  \n",
       "P59169  Arabidopsis thaliana  \n",
       "Q9LR02  Arabidopsis thaliana  \n",
       "Q9FKQ3  Arabidopsis thaliana  \n",
       "Q9FX60  Arabidopsis thaliana  \n",
       "Q9C5X4  Arabidopsis thaliana  \n",
       "Q9LXU8  Arabidopsis thaliana  "
      ]
     },
     "metadata": {},
     "output_type": "display_data"
    }
   ],
   "source": [
    "data = pd.DataFrame(parse_data(result,organism_='Arabidopsis thaliana',\n",
    "                               keywords_list=['Histone H3']))\n",
    "data.index = data['ID']\n",
    "data.drop('ID', inplace=True, axis=1)\n",
    "\n",
    "display(data)"
   ]
  },
  {
   "cell_type": "code",
   "execution_count": null,
   "metadata": {},
   "outputs": [
    {
     "name": "stdout",
     "output_type": "stream",
     "text": [
      "total results number = 100\n",
      "dict_keys(['entryType', 'primaryAccession', 'uniProtkbId', 'entryAudit', 'annotationScore', 'organism', 'proteinExistence', 'proteinDescription', 'genes', 'comments', 'features', 'keywords', 'references', 'uniProtKBCrossReferences', 'sequence', 'extraAttributes'])\n"
     ]
    }
   ],
   "source": [
    "result = uniprot_search(\"histone H3\", taxonomy_id=4530)"
   ]
  },
  {
   "cell_type": "code",
   "execution_count": 22,
   "metadata": {},
   "outputs": [
    {
     "name": "stdout",
     "output_type": "stream",
     "text": [
      "dict_keys(['entryType', 'primaryAccession', 'uniProtkbId', 'entryAudit', 'annotationScore', 'organism', 'proteinExistence', 'proteinDescription', 'genes', 'comments', 'features', 'keywords', 'references', 'uniProtKBCrossReferences', 'sequence', 'extraAttributes'])\n"
     ]
    }
   ],
   "source": [
    "print(result[0].keys())"
   ]
  },
  {
   "cell_type": "code",
   "execution_count": 31,
   "metadata": {},
   "outputs": [
    {
     "data": {
      "text/plain": [
       "{'recommendedName': {'fullName': {'value': 'Histone H2B.3'}}}"
      ]
     },
     "metadata": {},
     "output_type": "display_data"
    },
    {
     "data": {
      "text/plain": [
       "[{'database': 'EMBL',\n",
       "  'id': 'CM000126',\n",
       "  'properties': [{'key': 'ProteinId', 'value': 'EAY72539.1'},\n",
       "   {'key': 'Status', 'value': '-'},\n",
       "   {'key': 'MoleculeType', 'value': 'Genomic_DNA'}]},\n",
       " {'database': 'AlphaFoldDB',\n",
       "  'id': 'A2WKP3',\n",
       "  'properties': [{'key': 'Description', 'value': '-'}]},\n",
       " {'database': 'SMR',\n",
       "  'id': 'A2WKP3',\n",
       "  'properties': [{'key': 'Description', 'value': '-'}]},\n",
       " {'database': 'STRING',\n",
       "  'id': '39946.A2WKP3',\n",
       "  'properties': [{'key': 'Description', 'value': '-'}]},\n",
       " {'database': 'EnsemblPlants',\n",
       "  'id': 'BGIOSGA002784-TA',\n",
       "  'properties': [{'key': 'ProteinId', 'value': 'BGIOSGA002784-PA'},\n",
       "   {'key': 'GeneId', 'value': 'BGIOSGA002784'}]},\n",
       " {'database': 'EnsemblPlants',\n",
       "  'id': 'OsMH63_01G003550_01',\n",
       "  'properties': [{'key': 'ProteinId', 'value': 'OsMH63_01G003550_01'},\n",
       "   {'key': 'GeneId', 'value': 'OsMH63_01G003550'}]},\n",
       " {'database': 'EnsemblPlants',\n",
       "  'id': 'OsPr106_01g0003430.01',\n",
       "  'properties': [{'key': 'ProteinId', 'value': 'OsPr106_01g0003430.01'},\n",
       "   {'key': 'GeneId', 'value': 'OsPr106_01g0003430'}]},\n",
       " {'database': 'Gramene',\n",
       "  'id': 'BGIOSGA002784-TA',\n",
       "  'properties': [{'key': 'ProteinId', 'value': 'BGIOSGA002784-PA'},\n",
       "   {'key': 'GeneId', 'value': 'BGIOSGA002784'}]},\n",
       " {'database': 'Gramene',\n",
       "  'id': 'OsMH63_01G003550_01',\n",
       "  'properties': [{'key': 'ProteinId', 'value': 'OsMH63_01G003550_01'},\n",
       "   {'key': 'GeneId', 'value': 'OsMH63_01G003550'}]},\n",
       " {'database': 'Gramene',\n",
       "  'id': 'OsPr106_01g0003430.01',\n",
       "  'properties': [{'key': 'ProteinId', 'value': 'OsPr106_01g0003430.01'},\n",
       "   {'key': 'GeneId', 'value': 'OsPr106_01g0003430'}]},\n",
       " {'database': 'HOGENOM',\n",
       "  'id': 'CLU_075666_1_0_1',\n",
       "  'properties': [{'key': 'Description', 'value': '-'}]},\n",
       " {'database': 'OMA',\n",
       "  'id': 'HILFRHI',\n",
       "  'properties': [{'key': 'Fingerprint', 'value': '-'}]},\n",
       " {'database': 'Proteomes',\n",
       "  'id': 'UP000007015',\n",
       "  'properties': [{'key': 'Component', 'value': 'Chromosome 1'}]},\n",
       " {'database': 'GO',\n",
       "  'id': 'GO:0000786',\n",
       "  'properties': [{'key': 'GoTerm', 'value': 'C:nucleosome'},\n",
       "   {'key': 'GoEvidenceType', 'value': 'IEA:UniProtKB-KW'}]},\n",
       " {'database': 'GO',\n",
       "  'id': 'GO:0005634',\n",
       "  'properties': [{'key': 'GoTerm', 'value': 'C:nucleus'},\n",
       "   {'key': 'GoEvidenceType', 'value': 'IEA:UniProtKB-SubCell'}]},\n",
       " {'database': 'GO',\n",
       "  'id': 'GO:0003677',\n",
       "  'properties': [{'key': 'GoTerm', 'value': 'F:DNA binding'},\n",
       "   {'key': 'GoEvidenceType', 'value': 'IEA:UniProtKB-KW'}]},\n",
       " {'database': 'GO',\n",
       "  'id': 'GO:0046982',\n",
       "  'properties': [{'key': 'GoTerm',\n",
       "    'value': 'F:protein heterodimerization activity'},\n",
       "   {'key': 'GoEvidenceType', 'value': 'IEA:InterPro'}]},\n",
       " {'database': 'GO',\n",
       "  'id': 'GO:0030527',\n",
       "  'properties': [{'key': 'GoTerm',\n",
       "    'value': 'F:structural constituent of chromatin'},\n",
       "   {'key': 'GoEvidenceType', 'value': 'IEA:InterPro'}]},\n",
       " {'database': 'FunFam',\n",
       "  'id': '1.10.20.10:FF:000014',\n",
       "  'properties': [{'key': 'EntryName', 'value': 'Histone H2B'},\n",
       "   {'key': 'MatchStatus', 'value': '1'}]},\n",
       " {'database': 'Gene3D',\n",
       "  'id': '1.10.20.10',\n",
       "  'properties': [{'key': 'EntryName', 'value': 'Histone, subunit A'},\n",
       "   {'key': 'MatchStatus', 'value': '1'}]},\n",
       " {'database': 'InterPro',\n",
       "  'id': 'IPR009072',\n",
       "  'properties': [{'key': 'EntryName', 'value': 'Histone-fold'}]},\n",
       " {'database': 'InterPro',\n",
       "  'id': 'IPR007125',\n",
       "  'properties': [{'key': 'EntryName', 'value': 'Histone_H2A/H2B/H3'}]},\n",
       " {'database': 'InterPro',\n",
       "  'id': 'IPR000558',\n",
       "  'properties': [{'key': 'EntryName', 'value': 'Histone_H2B'}]},\n",
       " {'database': 'InterPro',\n",
       "  'id': 'IPR055333',\n",
       "  'properties': [{'key': 'EntryName', 'value': 'HISTONE_H2B_site'}]},\n",
       " {'database': 'PANTHER',\n",
       "  'id': 'PTHR23428',\n",
       "  'properties': [{'key': 'EntryName', 'value': 'HISTONE H2B'},\n",
       "   {'key': 'MatchStatus', 'value': '1'}]},\n",
       " {'database': 'Pfam',\n",
       "  'id': 'PF00125',\n",
       "  'properties': [{'key': 'EntryName', 'value': 'Histone'},\n",
       "   {'key': 'MatchStatus', 'value': '1'}]},\n",
       " {'database': 'PRINTS',\n",
       "  'id': 'PR00621',\n",
       "  'properties': [{'key': 'EntryName', 'value': 'HISTONEH2B'}]},\n",
       " {'database': 'SMART',\n",
       "  'id': 'SM00427',\n",
       "  'properties': [{'key': 'EntryName', 'value': 'H2B'},\n",
       "   {'key': 'MatchStatus', 'value': '1'}]},\n",
       " {'database': 'SUPFAM',\n",
       "  'id': 'SSF47113',\n",
       "  'properties': [{'key': 'EntryName', 'value': 'Histone-fold'},\n",
       "   {'key': 'MatchStatus', 'value': '1'}]},\n",
       " {'database': 'PROSITE',\n",
       "  'id': 'PS00357',\n",
       "  'properties': [{'key': 'EntryName', 'value': 'HISTONE_H2B'},\n",
       "   {'key': 'MatchStatus', 'value': '1'}]}]"
      ]
     },
     "metadata": {},
     "output_type": "display_data"
    }
   ],
   "source": [
    "display(result[0].get('proteinDescription'))\n",
    "display(result[0].get('uniProtKBCrossReferences'))"
   ]
  },
  {
   "cell_type": "code",
   "execution_count": 19,
   "metadata": {},
   "outputs": [
    {
     "name": "stdout",
     "output_type": "stream",
     "text": [
      "dict_keys(['entryType', 'primaryAccession', 'uniProtkbId', 'entryAudit', 'annotationScore', 'organism', 'proteinExistence', 'proteinDescription', 'genes', 'comments', 'features', 'keywords', 'references', 'uniProtKBCrossReferences', 'sequence', 'extraAttributes'])\n"
     ]
    },
    {
     "data": {
      "text/plain": [
       "'A2WKP3'"
      ]
     },
     "metadata": {},
     "output_type": "display_data"
    }
   ],
   "source": [
    "print(result[0].keys())\n",
    "display(result[0].get('primaryAccession'))"
   ]
  },
  {
   "cell_type": "code",
   "execution_count": 13,
   "metadata": {},
   "outputs": [
    {
     "data": {
      "text/html": [
       "<div>\n",
       "<style scoped>\n",
       "    .dataframe tbody tr th:only-of-type {\n",
       "        vertical-align: middle;\n",
       "    }\n",
       "\n",
       "    .dataframe tbody tr th {\n",
       "        vertical-align: top;\n",
       "    }\n",
       "\n",
       "    .dataframe thead th {\n",
       "        text-align: right;\n",
       "    }\n",
       "</style>\n",
       "<table border=\"1\" class=\"dataframe\">\n",
       "  <thead>\n",
       "    <tr style=\"text-align: right;\">\n",
       "      <th></th>\n",
       "      <th>ID</th>\n",
       "      <th>Annotation</th>\n",
       "      <th>Sequence</th>\n",
       "      <th>Organism</th>\n",
       "    </tr>\n",
       "  </thead>\n",
       "  <tbody>\n",
       "    <tr>\n",
       "      <th>0</th>\n",
       "      <td>Q6T367</td>\n",
       "      <td>Histone H3-like centromeric protein CENH3</td>\n",
       "      <td>MARTKHPAVRKSKAEPKKKLQFERSPRPSKAQRAGGGTGTSATTRS...</td>\n",
       "      <td>Oryza sativa subsp. japonica</td>\n",
       "    </tr>\n",
       "    <tr>\n",
       "      <th>1</th>\n",
       "      <td>A2XHJ3</td>\n",
       "      <td>Histone H3.3</td>\n",
       "      <td>MARTKQTARKSTGGKAPRKQLATKAARKSAPTTGGVKKPHRYRPGT...</td>\n",
       "      <td>Oryza sativa subsp. indica</td>\n",
       "    </tr>\n",
       "    <tr>\n",
       "      <th>2</th>\n",
       "      <td>Q0JCT1</td>\n",
       "      <td>Histone H3.3</td>\n",
       "      <td>MARTKQTARKSTGGKAPRKQLATKAARKSAPTTGGVKKPHRYRPGT...</td>\n",
       "      <td>Oryza sativa subsp. japonica</td>\n",
       "    </tr>\n",
       "    <tr>\n",
       "      <th>3</th>\n",
       "      <td>Q2RAD9</td>\n",
       "      <td>Histone H3.2</td>\n",
       "      <td>MARTKQTARKSTGGKAPRKQLATKAARKSAPATGGVKKPHRFRPGT...</td>\n",
       "      <td>Oryza sativa subsp. japonica</td>\n",
       "    </tr>\n",
       "    <tr>\n",
       "      <th>4</th>\n",
       "      <td>A2Y533</td>\n",
       "      <td>Histone H3.2</td>\n",
       "      <td>MARTKQTARKSTGGKAPRKQLATKAARKSAPATGGVKKPHRFRPGT...</td>\n",
       "      <td>Oryza sativa subsp. indica</td>\n",
       "    </tr>\n",
       "  </tbody>\n",
       "</table>\n",
       "</div>"
      ],
      "text/plain": [
       "       ID                                 Annotation  \\\n",
       "0  Q6T367  Histone H3-like centromeric protein CENH3   \n",
       "1  A2XHJ3                               Histone H3.3   \n",
       "2  Q0JCT1                               Histone H3.3   \n",
       "3  Q2RAD9                               Histone H3.2   \n",
       "4  A2Y533                               Histone H3.2   \n",
       "\n",
       "                                            Sequence  \\\n",
       "0  MARTKHPAVRKSKAEPKKKLQFERSPRPSKAQRAGGGTGTSATTRS...   \n",
       "1  MARTKQTARKSTGGKAPRKQLATKAARKSAPTTGGVKKPHRYRPGT...   \n",
       "2  MARTKQTARKSTGGKAPRKQLATKAARKSAPTTGGVKKPHRYRPGT...   \n",
       "3  MARTKQTARKSTGGKAPRKQLATKAARKSAPATGGVKKPHRFRPGT...   \n",
       "4  MARTKQTARKSTGGKAPRKQLATKAARKSAPATGGVKKPHRFRPGT...   \n",
       "\n",
       "                       Organism  \n",
       "0  Oryza sativa subsp. japonica  \n",
       "1    Oryza sativa subsp. indica  \n",
       "2  Oryza sativa subsp. japonica  \n",
       "3  Oryza sativa subsp. japonica  \n",
       "4    Oryza sativa subsp. indica  "
      ]
     },
     "metadata": {},
     "output_type": "display_data"
    }
   ],
   "source": [
    "data = pd.DataFrame(parse_data(result,organism_='Oryza sativa',\n",
    "                               keywords_list=['Histone H3']))\n",
    "display(data)"
   ]
  }
 ],
 "metadata": {
  "kernelspec": {
   "display_name": "base",
   "language": "python",
   "name": "python3"
  },
  "language_info": {
   "codemirror_mode": {
    "name": "ipython",
    "version": 3
   },
   "file_extension": ".py",
   "mimetype": "text/x-python",
   "name": "python",
   "nbconvert_exporter": "python",
   "pygments_lexer": "ipython3",
   "version": "3.12.7"
  }
 },
 "nbformat": 4,
 "nbformat_minor": 2
}
