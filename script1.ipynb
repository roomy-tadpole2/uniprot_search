{
 "cells": [
  {
   "cell_type": "code",
   "execution_count": 1,
   "metadata": {},
   "outputs": [],
   "source": [
    "from fetch_scripts import uniprot_search\n",
    "from fetch_scripts import parse_data\n",
    "import pandas as pd"
   ]
  },
  {
   "cell_type": "code",
   "execution_count": 2,
   "metadata": {},
   "outputs": [],
   "source": [
    "def gather(search_key_word: str, organism: str, taxonomy_id: int):\n",
    "    print(f\"gathering {search_key_word}, taxonomy_id={taxonomy_id}, organism={organism}...\")\n",
    "    result = uniprot_search(search_key_word, taxonomy_id=taxonomy_id)\n",
    "    data = pd.DataFrame(parse_data(result,organism_=organism,\n",
    "                                          keywords_list=['Histone H3']))\n",
    "    if (len(data)==0):\n",
    "        print(f\"\\033[31mno item parsed in {organism}\\033[0m\")\n",
    "    else:\n",
    "        data.index = data['ID']\n",
    "        data.drop('ID', inplace=True, axis=1)\n",
    "        data.sort_values(by='Organism', inplace=True)\n",
    "        print(f\"\\033[32mtotally parsed item = {len(data)}\\033[0m\")\n",
    "    data.to_csv(f\"data\\\\{taxonomy_id}.csv\")"
   ]
  },
  {
   "cell_type": "code",
   "execution_count": 3,
   "metadata": {},
   "outputs": [
    {
     "name": "stdout",
     "output_type": "stream",
     "text": [
      "gathering histone h3, taxonomy_id=3218, organism=Physcomitrium patens...\n",
      "\u001b[32mtotally parsed item = 5\u001b[0m\n",
      "gathering histone h3, taxonomy_id=88036, organism=Selaginella moellendorffii...\n",
      "\u001b[32mtotally parsed item = 3\u001b[0m\n",
      "gathering histone h3, taxonomy_id=3702, organism=Arabidopsis thaliana...\n",
      "\u001b[32mtotally parsed item = 8\u001b[0m\n",
      "gathering histone h3, taxonomy_id=3880, organism=Medicago truncatula...\n",
      "\u001b[32mtotally parsed item = 8\u001b[0m\n",
      "gathering histone h3, taxonomy_id=3694, organism=Populus trichocarpa...\n",
      "\u001b[32mtotally parsed item = 5\u001b[0m\n",
      "gathering histone h3, taxonomy_id=3708, organism=Brassica napus...\n",
      "\u001b[32mtotally parsed item = 5\u001b[0m\n",
      "gathering histone h3, taxonomy_id=4100, organism=Nicotiana benthamiana...\n",
      "\u001b[32mtotally parsed item = 1\u001b[0m\n",
      "gathering histone h3, taxonomy_id=4081, organism=Solanum lycopersicum...\n",
      "\u001b[32mtotally parsed item = 5\u001b[0m\n",
      "gathering histone h3, taxonomy_id=4113, organism=Solanum tuberosum...\n",
      "\u001b[32mtotally parsed item = 4\u001b[0m\n",
      "gathering histone h3, taxonomy_id=4530, organism=Oryza sativa...\n",
      "\u001b[32mtotally parsed item = 5\u001b[0m\n",
      "gathering histone h3, taxonomy_id=4558, organism=Sorghum bicolor...\n",
      "\u001b[32mtotally parsed item = 9\u001b[0m\n",
      "gathering histone h3, taxonomy_id=4577, organism=Zea mays...\n",
      "\u001b[32mtotally parsed item = 13\u001b[0m\n",
      "gathering histone h3, taxonomy_id=4565, organism=Triticum aestivum...\n",
      "\u001b[32mtotally parsed item = 18\u001b[0m\n",
      "gathering histone h3, taxonomy_id=3847, organism=Glycine max...\n",
      "\u001b[32mtotally parsed item = 4\u001b[0m\n",
      "gathering histone h3, taxonomy_id=3635, organism=Gossypium hirsutum...\n",
      "\u001b[32mtotally parsed item = 5\u001b[0m\n"
     ]
    }
   ],
   "source": [
    "items = pd.read_csv(\"items.csv\")\n",
    "\n",
    "for index, row in items.iterrows():\n",
    "    gather(search_key_word='histone h3',\n",
    "           organism=row['name2'],\n",
    "           taxonomy_id=row['taxonomy'])"
   ]
  },
  {
   "cell_type": "code",
   "execution_count": 5,
   "metadata": {},
   "outputs": [],
   "source": [
    "taxonomy_ids = []\n",
    "\n",
    "for index, row in items.iterrows():\n",
    "    taxonomy_ids.append(row['taxonomy'])"
   ]
  },
  {
   "cell_type": "code",
   "execution_count": 10,
   "metadata": {},
   "outputs": [],
   "source": [
    "data = pd.DataFrame()\n",
    "\n",
    "for id in taxonomy_ids:\n",
    "    data_ = pd.read_csv(f\"data\\\\{id}.csv\")\n",
    "    data = pd.concat([data,data_])\n",
    "\n",
    "data.to_csv(\"data\\\\all.csv\")"
   ]
  }
 ],
 "metadata": {
  "kernelspec": {
   "display_name": "base",
   "language": "python",
   "name": "python3"
  },
  "language_info": {
   "codemirror_mode": {
    "name": "ipython",
    "version": 3
   },
   "file_extension": ".py",
   "mimetype": "text/x-python",
   "name": "python",
   "nbconvert_exporter": "python",
   "pygments_lexer": "ipython3",
   "version": "3.12.7"
  }
 },
 "nbformat": 4,
 "nbformat_minor": 2
}
